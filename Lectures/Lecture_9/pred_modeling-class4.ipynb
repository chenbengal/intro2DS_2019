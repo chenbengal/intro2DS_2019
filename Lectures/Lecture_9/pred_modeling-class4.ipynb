{
 "cells": [
  {
   "cell_type": "markdown",
   "metadata": {
    "slideshow": {
     "slide_type": "slide"
    }
   },
   "source": [
    "# Boosting with trees\n"
   ]
  },
  {
   "cell_type": "markdown",
   "metadata": {
    "slideshow": {
     "slide_type": "slide"
    }
   },
   "source": [
    "# Recap: trees and Random Forest\n",
    "\n",
    "### Trees: good representation, inaccurate, unstable\n",
    "\n",
    "### RF: build many different trees through randomization, average them"
   ]
  },
  {
   "cell_type": "markdown",
   "metadata": {
    "slideshow": {
     "slide_type": "slide"
    }
   },
   "source": [
    "# Boosting: intuitive idea\n",
    "\n",
    "### We gradually and iteratively build the overall model as a sum of smaller models called *weak learners*\n",
    "\n",
    "### Each weak learner seeks to improve the model we have so far\n",
    "\n",
    "### Weak learners can be any predictive model, most widely used: trees\n",
    "\n",
    "### How do we capture the notion of *improve the model we have so far*?"
   ]
  },
  {
   "cell_type": "markdown",
   "metadata": {
    "slideshow": {
     "slide_type": "slide"
    }
   },
   "source": [
    "# Boosting: overall scheme\n",
    "\n",
    "1. Initialize $F^{(0)}(x) = 0,\\; \\forall x$\n",
    "2. At stage $t \\geq 1$:<br>    \n",
    "    a. Calculate $Y^{(t)} = (y_1^{(t)},\\ldots,y_n^{(t)})$ capturing what the model $F^{(t-1)}$ **has not yet explained**<br>\n",
    "    b. Fit a weak learner $\\hat{f}^{(t)}$ to $T^{(t)} = (X,Y^{(t)})$<br>\n",
    "    c. Update $F^{(t)} = F^{(t-1)} + \\epsilon \\hat{f}^{(t)}$\n",
    "    \n",
    "### Details: How to determine $Y^{(t)}$? Which weak learner to use? What is $\\epsilon$?"
   ]
  },
  {
   "cell_type": "markdown",
   "metadata": {
    "slideshow": {
     "slide_type": "slide"
    }
   },
   "source": [
    "# Example: Tree boosting for regression\n",
    "\n",
    "### Defining $Y^{(t)}$ as $y_i^{(t)} = (y_i - F^{(t-1)}(x_i)) $ the current residual (what the model does not explain)\n",
    "\n",
    "### Weak learner: trees, usually small --- two- or three-level trees as $\\hat{f}^{(t)}$\n",
    "\n",
    "### Make $\\epsilon$ as small as possible ($\\epsilon$-boosting): tradeoff between accuracy and computation"
   ]
  },
  {
   "cell_type": "code",
   "execution_count": 4,
   "metadata": {
    "slideshow": {
     "slide_type": "skip"
    }
   },
   "outputs": [],
   "source": [
    "import pandas as pd\n",
    "import numpy as np\n",
    "import matplotlib.pyplot as plt\n",
    "from sklearn import tree\n",
    "import math\n",
    "import random\n",
    "\n",
    "%matplotlib inline"
   ]
  },
  {
   "cell_type": "code",
   "execution_count": 5,
   "metadata": {
    "slideshow": {
     "slide_type": "skip"
    }
   },
   "outputs": [],
   "source": [
    "ratings = pd.read_table(\"http://www.tau.ac.il/~saharon/StatsLearn2018/train_ratings_all.dat\", header = None)\n",
    "ratings[ratings == 0] = None\n",
    "miss_cong = pd.read_csv(\"http://www.tau.ac.il/~saharon/StatsLearn2018/train_y_rating.dat\", header = None, names = ['score'])\n",
    "movies = pd.read_csv(\"http://www.tau.ac.il/~saharon/StatsLearn2018/movie_titles.txt\", header = None, names = ['year', 'title'])\n",
    "\n",
    "X = ratings.values\n",
    "Y = miss_cong.values[:,0]\n",
    "n = X.shape[0]\n",
    "tr_size = math.floor(0.8*n)\n",
    "te_size = n-tr_size\n",
    "tr_ind = random.sample(range(n),tr_size)\n",
    "Ne_Xtr = X[tr_ind,]\n",
    "Ne_Xte = np.delete(X,tr_ind,0)\n",
    "Ne_Ytr = Y[tr_ind]\n",
    "Ne_Yte = np.delete(Y,tr_ind)"
   ]
  },
  {
   "cell_type": "code",
   "execution_count": 6,
   "metadata": {
    "slideshow": {
     "slide_type": "slide"
    }
   },
   "outputs": [],
   "source": [
    "Ne_Xtr_noNAN = Ne_Xtr\n",
    "Ne_Xtr_noNAN[np.isnan(Ne_Xtr_noNAN)]=0\n",
    "Ne_Xte_noNAN = Ne_Xte\n",
    "Ne_Xte_noNAN[np.isnan(Ne_Xte_noNAN)]=0"
   ]
  },
  {
   "cell_type": "code",
   "execution_count": 21,
   "metadata": {
    "slideshow": {
     "slide_type": "-"
    }
   },
   "outputs": [],
   "source": [
    "# Boosted trees: depth 2 \n",
    "ntr = Ne_Xtr.shape[0]\n",
    "nte = Ne_Xte.shape[0]\n",
    "tr_err = []\n",
    "te_err = []\n",
    "Ytr_now = Ne_Ytr\n",
    "yhat_tr = np.zeros(ntr)\n",
    "yhat_te = np.zeros(nte)\n",
    "eps=0.05\n",
    "for iter_num in range(200):\n",
    "    Netree = tree.DecisionTreeRegressor(max_depth=2)\n",
    "    Netree = Netree.fit(Ne_Xtr_noNAN, Ytr_now)\n",
    "    yhat_tr_now = Netree.predict(Ne_Xtr_noNAN)\n",
    "    yhat_te_now = Netree.predict(Ne_Xte_noNAN)\n",
    "    yhat_tr += eps*yhat_tr_now\n",
    "    yhat_te += eps*yhat_te_now    \n",
    "    tr_err.append(math.sqrt(np.sum((yhat_tr-Ne_Ytr)**2)/ntr))\n",
    "    te_err.append(math.sqrt(np.sum((yhat_te-Ne_Yte)**2)/nte))\n",
    "    Ytr_now = Ne_Ytr - yhat_tr\n"
   ]
  },
  {
   "cell_type": "code",
   "execution_count": 22,
   "metadata": {
    "slideshow": {
     "slide_type": "slide"
    }
   },
   "outputs": [
    {
     "data": {
      "image/png": "[encoded data removed]",
      "text/plain": [
       "<Figure size 432x288 with 1 Axes>"
      ]
     },
     "metadata": {
      "needs_background": "light"
     },
     "output_type": "display_data"
    },
    {
     "name": "stdout",
     "output_type": "stream",
     "text": [
      "test RMSE: iter 0 3.59  iter 10 2.27  iter 100 0.78  iter 199 0.77\n"
     ]
    }
   ],
   "source": [
    "plt.figure()\n",
    "lw = 2\n",
    "plt.plot(range(200), tr_err, color='darkorange', lw=lw, label='train' )\n",
    "plt.plot(range(200), te_err, color='navy', lw=lw, label='test')\n",
    "plt.ylim([0.3,1.3])\n",
    "plt.xlabel('iteration')\n",
    "plt.ylabel('RMSE')\n",
    "plt.title('Tree boosting on Netflix - depth 2')\n",
    "plt.legend(loc=\"upper right\")\n",
    "plt.show() \n",
    "\n",
    "print('test RMSE: iter 0',round(te_err[0],2),' iter 10',round(te_err[10],2),' iter 100',round(te_err[100],2),' iter 199',round(te_err[199],2))"
   ]
  },
  {
   "cell_type": "code",
   "execution_count": 23,
   "metadata": {
    "slideshow": {
     "slide_type": "slide"
    }
   },
   "outputs": [],
   "source": [
    "# Boosted trees: depth 3 \n",
    "ntr = Ne_Xtr.shape[0]\n",
    "nte = Ne_Xte.shape[0]\n",
    "tr_err = []\n",
    "te_err = []\n",
    "Ytr_now = Ne_Ytr\n",
    "yhat_tr = np.zeros(ntr)\n",
    "yhat_te = np.zeros(nte)\n",
    "eps=0.05\n",
    "for iter_num in range(200):\n",
    "    Netree = tree.DecisionTreeRegressor(max_depth=3)\n",
    "    Netree = Netree.fit(Ne_Xtr_noNAN, Ytr_now)\n",
    "    yhat_tr_now = Netree.predict(Ne_Xtr_noNAN)\n",
    "    yhat_te_now = Netree.predict(Ne_Xte_noNAN)\n",
    "    yhat_tr += eps*yhat_tr_now\n",
    "    yhat_te += eps*yhat_te_now    \n",
    "    tr_err.append(math.sqrt(np.sum((yhat_tr-Ne_Ytr)**2)/ntr))\n",
    "    te_err.append(math.sqrt(np.sum((yhat_te-Ne_Yte)**2)/nte))\n",
    "    Ytr_now = Ne_Ytr - yhat_tr\n"
   ]
  },
  {
   "cell_type": "code",
   "execution_count": 24,
   "metadata": {
    "slideshow": {
     "slide_type": "slide"
    }
   },
   "outputs": [
    {
     "data": {
      "image/png": "[encoded data removed]",
      "text/plain": [
       "<Figure size 432x288 with 1 Axes>"
      ]
     },
     "metadata": {
      "needs_background": "light"
     },
     "output_type": "display_data"
    },
    {
     "name": "stdout",
     "output_type": "stream",
     "text": [
      "test RMSE: iter 0 3.59  iter 10 2.26  iter 100 0.77  iter 199 0.77\n"
     ]
    }
   ],
   "source": [
    "plt.figure()\n",
    "lw = 2\n",
    "plt.plot(range(200), tr_err, color='darkorange', lw=lw, label='train' )\n",
    "plt.plot(range(200), te_err, color='navy', lw=lw, label='test')\n",
    "plt.ylim([0.3,1.3])\n",
    "plt.xlabel('iteration')\n",
    "plt.ylabel('RMSE')\n",
    "plt.title('Tree boosting on Netflix - depth 3')\n",
    "plt.legend(loc=\"upper right\")\n",
    "plt.show() \n",
    "\n",
    "print('test RMSE: iter 0',round(te_err[0],2),' iter 10',round(te_err[10],2),' iter 100',round(te_err[100],2),' iter 199',round(te_err[199],2))"
   ]
  },
  {
   "cell_type": "code",
   "execution_count": 27,
   "metadata": {
    "slideshow": {
     "slide_type": "slide"
    }
   },
   "outputs": [],
   "source": [
    "# Boosted trees: depth 15 \n",
    "ntr = Ne_Xtr.shape[0]\n",
    "nte = Ne_Xte.shape[0]\n",
    "tr_err = []\n",
    "te_err = []\n",
    "Ytr_now = Ne_Ytr\n",
    "yhat_tr = np.zeros(ntr)\n",
    "yhat_te = np.zeros(nte)\n",
    "eps=0.05\n",
    "for iter_num in range(100):\n",
    "    Netree = tree.DecisionTreeRegressor(max_depth=15)\n",
    "    Netree = Netree.fit(Ne_Xtr_noNAN, Ytr_now)\n",
    "    yhat_tr_now = Netree.predict(Ne_Xtr_noNAN)\n",
    "    yhat_te_now = Netree.predict(Ne_Xte_noNAN)\n",
    "    yhat_tr += eps*yhat_tr_now\n",
    "    yhat_te += eps*yhat_te_now    \n",
    "    tr_err.append(math.sqrt(np.sum((yhat_tr-Ne_Ytr)**2)/ntr))\n",
    "    te_err.append(math.sqrt(np.sum((yhat_te-Ne_Yte)**2)/nte))\n",
    "    Ytr_now = Ne_Ytr - yhat_tr\n",
    "\n"
   ]
  },
  {
   "cell_type": "code",
   "execution_count": 29,
   "metadata": {
    "slideshow": {
     "slide_type": "slide"
    }
   },
   "outputs": [
    {
     "data": {
      "image/png": "[encoded data removed]",
      "text/plain": [
       "<Figure size 432x288 with 1 Axes>"
      ]
     },
     "metadata": {
      "needs_background": "light"
     },
     "output_type": "display_data"
    },
    {
     "name": "stdout",
     "output_type": "stream",
     "text": [
      "test RMSE: iter 0 3.59  iter 10 2.27  iter 99 0.91\n"
     ]
    }
   ],
   "source": [
    "plt.figure()\n",
    "lw = 2\n",
    "plt.plot(range(100), tr_err, color='darkorange', lw=lw, label='train' )\n",
    "plt.plot(range(100), te_err, color='navy', lw=lw, label='test')\n",
    "plt.ylim([0.3,1.3])\n",
    "plt.xlabel('iteration')\n",
    "plt.ylabel('RMSE')\n",
    "plt.title('Tree boosting on Netflix - depth 15')\n",
    "plt.legend(loc=\"upper right\")\n",
    "plt.show() \n",
    "\n",
    "print('test RMSE: iter 0',round(te_err[0],2),' iter 10',round(te_err[10],2),' iter 99',round(te_err[99],2))"
   ]
  },
  {
   "cell_type": "markdown",
   "metadata": {
    "slideshow": {
     "slide_type": "slide"
    }
   },
   "source": [
    "# A more disciplined view\n",
    "\n",
    "### For regression, taking the residual as $y_i^{(t)}$  makes sense\n",
    "\n",
    "### What is an analogy for classification? \n",
    "\n",
    "### What about a more rigorous mathematical explanation of what we are doing? \n",
    "\n",
    "### There are several approaches of varying mathematical complexity for describing and analyzing boosting"
   ]
  },
  {
   "cell_type": "markdown",
   "metadata": {
    "slideshow": {
     "slide_type": "slide"
    }
   },
   "source": [
    "# The additive model view\n",
    "\n",
    "### Start with a very large (possibly infinite) set of $q$ candidate \"weak learners\": $h_1(x),...,h_q(x).$\n",
    "\n",
    "### We are looking for a \"linear\" model of the form $\\hat{f}(x) = \\sum_{k=1}^q \\hat{\\beta}_k h_k(x).$ \n",
    "\n",
    "### In boosted trees example the $h_k$'s are *all possible trees of the given depth*\n",
    "\n",
    "### Since $q$ is huge we cannot directly find a good $\\hat{\\beta} \\in \\mathbb R^q.$"
   ]
  },
  {
   "cell_type": "markdown",
   "metadata": {
    "slideshow": {
     "slide_type": "slide"
    }
   },
   "source": [
    "# Additive model via boosting\n",
    "\n",
    "\n",
    "### At each iteration $t$ we find a \"good\" candidate $h_{k_t}$ and add $\\epsilon h_{k_t}$ to the current model\n",
    "\n",
    "### After $T$ iterations we have a model where $\\hat{\\beta}_k = \\epsilon \\times \\# \\{k_t = k\\}$ (the number of times $k$ was chosen)\n",
    "\n",
    "### How do we define a good $h_{k_t}$ to update its coefficient? \n",
    "\n",
    "### One option: given the current model $F^{(t)}$, which $h_k$ improves the model fit the *fastest* when we add it to the model? \n",
    "\n",
    "### This can be captured by using the derivative of the loss which measures the fit. Derivative of the RSS (squared loss): \n",
    "\n",
    "$$\\left.\\frac{\\partial RSS(F^{(t)})}{\\partial \\hat{y}_i}\\right|_{\\hat{y}_i= F^{(t)}(x_i)} = -2 (y_i - F^{(t)}(x_i)).$$"
   ]
  },
  {
   "cell_type": "markdown",
   "metadata": {
    "slideshow": {
     "slide_type": "slide"
    }
   },
   "source": [
    "# The gradient boosting paradigm\n",
    "\n",
    "### Choose a loss function for modeling (like RSS for regression)\n",
    "\n",
    "### At each iteration: calculate the (negative) gradient of the loss function at the current model, use that as $Y^{(t)}$ for the next weak learner\n",
    "\n",
    "### Interpretation: trying to find a weak learner $h_{k_t}$ which \"behaves like\" the negative gradient, which is the direction of *fastest decrease* of the loss\n",
    "\n",
    "### Can be applied with different loss functions for regression or classification (In the HW -- classification on shirts images)"
   ]
  },
  {
   "cell_type": "markdown",
   "metadata": {
    "slideshow": {
     "slide_type": "slide"
    }
   },
   "source": [
    "# Netflix regression boosting through built-in gradient boosting function"
   ]
  },
  {
   "cell_type": "code",
   "execution_count": 37,
   "metadata": {
    "slideshow": {
     "slide_type": "-"
    }
   },
   "outputs": [
    {
     "name": "stdout",
     "output_type": "stream",
     "text": [
      "200, depth 3: train RMSE 0.71  test RMSE 0.77\n"
     ]
    }
   ],
   "source": [
    "from sklearn.ensemble import GradientBoostingRegressor\n",
    "NeBoost = GradientBoostingRegressor(loss='ls', learning_rate=0.05, n_estimators=200, max_depth=3)\n",
    "NeBoost = NeBoost.fit(Ne_Xtr_noNAN, Ne_Ytr)\n",
    "\n",
    "yhat_tr = NeBoost.predict(Ne_Xtr_noNAN)\n",
    "yhat_te = NeBoost.predict(Ne_Xte_noNAN)\n",
    "\n",
    "print('200, depth 3: train RMSE',round(math.sqrt(np.sum((yhat_tr-Ne_Ytr)**2)/ntr),2), ' test RMSE',round(math.sqrt(np.sum((yhat_te-Ne_Yte)**2)/nte),2))\n"
   ]
  },
  {
   "cell_type": "markdown",
   "metadata": {
    "slideshow": {
     "slide_type": "slide"
    }
   },
   "source": [
    "# Trees-based Ensembles: Random Forest vs Boosting\n",
    "\n",
    "### RF: Average trees which are *as different as possible*\n",
    "1. Randomization is key\n",
    "2. Big, highly variable trees\n",
    "3. Average effectively: many trees\n",
    "\n",
    "### Boosting: Adaptively build additive model over trees\n",
    "1. Trees should not be too big\n",
    "2. Learn slowly: Small $\\epsilon$, many trees\n",
    "\n",
    "### Both of them take a bunch of bad predictive models (trees) and combine them into a good model!"
   ]
  },
  {
   "cell_type": "markdown",
   "metadata": {
    "slideshow": {
     "slide_type": "slide"
    }
   },
   "source": [
    "# Neural Networks and Deep Learning (DL)"
   ]
  },
  {
   "cell_type": "markdown",
   "metadata": {
    "slideshow": {
     "slide_type": "slide"
    }
   },
   "source": [
    "# Neural net: general idea\n",
    "\n",
    "### A directed graph starting from the features (each coordinate of $x$ is an input node) and ending in the model:\n",
    "\n",
    "![Alt text](images/nn-small.png \"A single layer network (from Wikipedia)\")\n",
    "\n",
    "(From Wikipedia)\n",
    "\n",
    "[Dynamic illustration](https://towardsdatascience.com/how-to-build-your-own-neural-network-from-scratch-in-python-68998a08e4f6)."
   ]
  },
  {
   "cell_type": "markdown",
   "metadata": {
    "slideshow": {
     "slide_type": "slide"
    }
   },
   "source": [
    "# 1-Hidden Layer Neural net\n",
    "\n",
    "![Alt text](images/nn-tiny.png \"A single layer network (from Wikipedia)\")\n",
    "(From Wikipedia)\n",
    "\n",
    "### Each arc contains a parameter $w_{ij}$ \n",
    "\n",
    "### Each node sums its inputs\n",
    "\n",
    "### Each of $K$ hidden nodes (here $K=4$) applies a non-linear function $\\sigma$\n",
    "\n",
    "$$ \\hat{f}(x) = \\sum_{k=1}^K w^{(2)}_k \\sigma( \\sum_{j=1}^p w^{(1)}_{jk} x_j).$$\n"
   ]
  },
  {
   "cell_type": "markdown",
   "metadata": {
    "slideshow": {
     "slide_type": "slide"
    }
   },
   "source": [
    "# Designing a simple Neural net\n",
    "\n",
    "### How many hidden layers, how many nodes in each?\n",
    "\n",
    "### Which non-linearity $\\sigma$ to use? \n",
    "\n",
    "### One or more output nodes? For regression or 2-class classification, usually only one\n",
    "\n",
    "### Given training data $T$, how do we learn the weights/parameters $W$?"
   ]
  },
  {
   "cell_type": "markdown",
   "metadata": {
    "slideshow": {
     "slide_type": "slide"
    }
   },
   "source": [
    "# Gradient descent for parameter learning\n",
    "\n",
    "### As in other methods, we start from defining a loss function $L(y,\\hat{y})$ for learning, for example\n",
    "1. Squared loss (RSS) for regression, like in OLS or our boosting example\n",
    "2. Bernoulli log-likelihood (AKA cross-entropy) for classification, like in logistic regression\n",
    "\n",
    "### Since $\\hat{y}_i = \\hat{f}(x_i)$ is a function of the parameters $W$, we can write the loss as function of $W$, in our simple example with one hidden layer and squared loss: \n",
    "\n",
    "$$ \\sum_{i=1}^n L(y_i, \\hat{y}_i) = \\sum_{i=1}^n \\left(y_i - \\sum_{k=1}^K w^{(2)}_k \\sigma( \\sum_{j=1}^p w^{(1)}_{jk} x_{ij})\\right)^2$$\n",
    "\n"
   ]
  },
  {
   "cell_type": "markdown",
   "metadata": {
    "slideshow": {
     "slide_type": "slide"
    }
   },
   "source": [
    "# Gradient descent (ctd.)\n",
    "\n",
    "### Given $W^{(t)}$, we calculate the derivative (gradient) of the loss function relative to every parameter $\\nabla L^{(t)}$ \n",
    "\n",
    "### Dimension of $\\nabla L$ is the number of parameters in our network --- can be millions or billions\n",
    "\n",
    "### We then take a *downward* step to decrease the loss\n",
    "\n",
    "$$ W^{(t+1)} = W^{(t)} - \\epsilon \\nabla L^{(t)}$$\n",
    "\n",
    "### We repeat that for many iterations\n"
   ]
  },
  {
   "cell_type": "markdown",
   "metadata": {
    "slideshow": {
     "slide_type": "slide"
    }
   },
   "source": [
    "## Two important notions: back-propagation and stochastic gradient descent (SGD)\n",
    "\n",
    "\n",
    "### A big part of the Neural Nets knowledge-base deals with ways of updating the weights based on gradient which are:\n",
    "1. Statistically efficient\n",
    "2. Computationally efficient\n",
    "\n",
    "### Back-prop is an efficient approach for calculating elements of $\\nabla L^{(t)}$ of the form $$\\frac{\\partial\\sum_{i=1}^n L(y_i, \\hat{y}_i^{(t)})}{\\partial w^{(l)}_{jk}}$$ by taking advantage of the graphical model structure\n"
   ]
  },
  {
   "cell_type": "markdown",
   "metadata": {
    "slideshow": {
     "slide_type": "subslide"
    }
   },
   "source": [
    "\n",
    "### SGD uses the idea that:\n",
    "$$\\frac{\\partial \\sum_{i=1}^n L(y_i, \\hat{y}_i)}{\\partial w^{(l)}_{jk}} = \\sum_{i=1}^n \\frac{\\partial L(y_i, \\hat{y}_i)}{\\partial w^{(l)}_{jk}}$$\n",
    "\n",
    "### SGD calculates the term inside the sum for one observation (or small group of observations) every time, and updates the weights \n",
    "\n",
    "### Because the number of weights can be very large, backprop + SGD allow updating all of them with relatively little computation\n",
    "\n",
    "### Converges much fasterr than calculating $\\nabla L$ over all observations before updating\n"
   ]
  },
  {
   "cell_type": "markdown",
   "metadata": {
    "slideshow": {
     "slide_type": "slide"
    }
   },
   "source": [
    "# Trying out NNs --- in recitation"
   ]
  },
  {
   "cell_type": "markdown",
   "metadata": {
    "slideshow": {
     "slide_type": "slide"
    }
   },
   "source": [
    "# History of Neural Nets\n",
    "\n",
    "### Neural nets have been around for decades \n",
    "\n",
    "### Initially proposed as \"imitating the brain\"\n",
    "\n",
    "### Went in and out of fashion, not the leading choice for predictive modeling as of ~2005\n",
    "\n",
    "### Starting around 2005: the DL revolution"
   ]
  },
  {
   "cell_type": "markdown",
   "metadata": {
    "slideshow": {
     "slide_type": "slide"
    }
   },
   "source": [
    "# From Neural Nets to the DL revolution\n",
    "\n",
    "\n",
    "### With the explosion of computing power, could fit *much* bigger neural nets, with millions or billions of parameters\n",
    "\n",
    "### Architectures got more imaginative, like: \n",
    "1. Convolutional NNets for images (we will discuss)\n",
    "2. Recurrent NNs\n",
    "3. GANS\n",
    "\n",
    "### Range of problems: reinforcement learning, auto-encoding, transfer learning\n",
    "\n",
    "### Modern statistical elements: dropout, pooling, momentum,...\n",
    "\n",
    "### Starting around 2005: amazing accuracy gains in many domains from using DL models\n",
    "\n",
    "### Fields dominated by DL today: image recognition, speech recognition, natural language preocessing,..."
   ]
  },
  {
   "cell_type": "code",
   "execution_count": null,
   "metadata": {},
   "outputs": [],
   "source": []
  }
 ],
 "metadata": {
  "celltoolbar": "Slideshow",
  "kernelspec": {
   "display_name": "Python 3",
   "language": "python",
   "name": "python3"
  },
  "language_info": {
   "codemirror_mode": {
    "name": "ipython",
    "version": 3
   },
   "file_extension": ".py",
   "mimetype": "text/x-python",
   "name": "python",
   "nbconvert_exporter": "python",
   "pygments_lexer": "ipython3",
   "version": "3.7.1"
  }
 },
 "nbformat": 4,
 "nbformat_minor": 2
}
