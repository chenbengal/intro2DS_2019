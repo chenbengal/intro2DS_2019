{
 "cells": [
  {
   "cell_type": "markdown",
   "metadata": {
    "slideshow": {
     "slide_type": "slide"
    }
   },
   "source": [
    "# Recap: Boosting \n",
    "\n",
    "### General idea: build a model gradually, each time improving *the model so far*\n",
    "\n",
    "### For each iteration $t$, define a modified $Y^{(t)}$ vector, capturing what is still unexplained by model $F^{(t-1)}$\n",
    "\n",
    "### Then fit a model $\\hat{f}_t$ to $Y^{(t)},$ and update $F^{(t)} = F^{(t-1)} + \\epsilon  \\hat{f}_t$\n",
    "\n",
    "### Gradient boosting: improvement is captured by making $Y^{(t)}$ the gradient of the loss function, evaluated at current model $F^{(t-1)}$\n",
    "\n",
    "### AdaBoost: boosting approach that defines $Y^{(t)}$, $\\hat{f}_t$ and $\\epsilon$ differently\n",
    "\n",
    "### Can describe AdaBoost as gradient boosting approach with complex loss function (beyond our material)\n",
    "\n",
    "\n"
   ]
  },
  {
   "cell_type": "markdown",
   "metadata": {
    "slideshow": {
     "slide_type": "slide"
    }
   },
   "source": [
    "# Recap: Artifical (Feed Forward) Neural Nets\n",
    "\n",
    "### Exist for many decades, \"emulate the brain\"\n",
    "\n",
    "### Directed graphical model:\n",
    "1. Starting from the input layer with $p$ nodes for data $x \\in \\mathbb R^p$, \n",
    "2. Going through hidden layer(s) with non-linear transformation(s)\n",
    "3. Ending in output layer giving $\\hat{f}(x)$\n",
    "\n",
    "### Every node in each layer connected to all nodes in next layer\n",
    "\n",
    "### Parameters are weights on edges\n",
    "\n",
    "### Learning the weights: gradient descent via back-propagation (chain rule)\n",
    "\n",
    "### Popular approach: stochastic gradient descent (SGD), consider one or a few observations and update the weights"
   ]
  },
  {
   "cell_type": "markdown",
   "metadata": {
    "slideshow": {
     "slide_type": "slide"
    }
   },
   "source": [
    "# From Neural Nets to Deep Learning\n",
    "\n",
    "\n",
    "### Increase in data sizes and computing power: Millions of observations, billions of parameters\n",
    "\n",
    "\n",
    "### New architerctures, beyond simple fully-connected feed-forward networks: \n",
    "1. Convolutional NNs for images (we will discuss)\n",
    "2. Recurrent NNs\n",
    "3. GANS\n",
    "\n",
    "### Range of problems: \n",
    "1. Reinforcement learning: learning to play games, the \"reward\" is only observed at the end\n",
    "2. Auto-encoding: find structure in data (non-linear PCA)\n",
    "3. Transfer learning: Learn networks on problems where you have lots of data, adjust to problems with a little data\n"
   ]
  },
  {
   "cell_type": "markdown",
   "metadata": {
    "slideshow": {
     "slide_type": "slide"
    }
   },
   "source": [
    "# From Neural Nets to Deep Learning (ctd.)\n",
    "\n",
    "### Modern statistical ideas:\n",
    "1. Dropout: occasionally zero some of the weights in the network to **get out of local minimum**\n",
    "2. Momentum: Instead of just using the gradient (first derivative) remember previous gradients (sort-of second derivative)\n",
    "\n",
    "### Starting around 2005: amazing accuracy gains in many domains from using DL models\n",
    "\n",
    "### Fields dominated by DL today: image recognition, speech recognition, natural language preocessing,..."
   ]
  },
  {
   "cell_type": "markdown",
   "metadata": {
    "slideshow": {
     "slide_type": "slide"
    }
   },
   "source": [
    "# Convolutional Neural Nets: the DL revolution in images\n",
    "\n",
    "### Motivating xample: [CIFAR-10](https://www.cs.toronto.edu/~kriz/cifar.html)\n",
    "\n",
    "### An image is a $K\\times K \\times L$ object (in our EBay example $K=100, L=3$ layers). For simplicity assume here one layer $L=1$. \n",
    "\n",
    "### Denote an image by $A$, the $i,j$ pixel is $A(i,j)$\n",
    "\n",
    "### A *local  area* in the image is a $q\\times q$ object (say $q=3$ or $q=5$)\n",
    "\n"
   ]
  },
  {
   "cell_type": "markdown",
   "metadata": {
    "slideshow": {
     "slide_type": "subslide"
    }
   },
   "source": [
    "# Filters as detectors\n",
    "\n",
    "### A *filter* $f$ is a $q\\times q$   *mask* $f(k,l),\\;k,l=1,\\ldots q$\n",
    "\n",
    "### Now $f$ can be applied to every $q \\times q$ area in $A$: \n",
    "\n",
    "$$(f*A)(i,j) = \\sum_{k=1}^q \\sum_{l=1}^q f(k,l)\\times A(i+k,j+l)$$\n",
    "\n",
    "### Gives a new \"image\" of size $(K-q+1) \\times (K-q+1)$, where each pixel is a *convolution* of a neighborhood with the filter"
   ]
  },
  {
   "cell_type": "markdown",
   "metadata": {
    "slideshow": {
     "slide_type": "slide"
    }
   },
   "source": [
    "# Filter example: finding a corner or a line\n",
    "\n",
    "### Consider the following two $3\\times 3$ filters: \n",
    "\n",
    "$$ f_1 = \\left( \\begin{array}{ccc} 0 & 0 & 0 \\\\\n",
    "1 & 1 & 0\\\\\n",
    "0 & 1 & 0 \\end{array} \\right)\\;,\\;\\;f_2 = \\left( \\begin{array}{ccc} 0 & 1 & 0 \\\\\n",
    "0 & 1 & 0\\\\\n",
    "0 & 1 & 0 \\end{array} \\right)$$\n",
    "\n",
    "### $(f_1*A)$ gives high values where $A$ has a corner \n",
    "\n",
    "### $(f_2*A)$ gives high values where $A$ has a vertical line\n",
    "\n",
    "### Example: [Sobel filter finds edges](https://en.wikipedia.org/wiki/Sobel_operator)\n"
   ]
  },
  {
   "cell_type": "markdown",
   "metadata": {
    "slideshow": {
     "slide_type": "slide"
    }
   },
   "source": [
    "# Convolutional NN (CNN): main ideas \n",
    "\n",
    "\n",
    "### Filters can find \"features\" in the image that can help identify it: \n",
    "* A house has corners\n",
    "* A snake has a repeating pattern on its back\n",
    "* A cat has pointy ears \n",
    "\n",
    "### But we don't know what features will allow us to solve a specific problem:\n",
    "* Corners, lines, edges, patterns?\n",
    "* What scale? A small cat has small pointy ears, a big cat has LARGE pointy ears --- they are both cats\n",
    "\n",
    "### So, we want the model to \"learn\" filters of different types and different scales that will help it solve the specific problem"
   ]
  },
  {
   "cell_type": "markdown",
   "metadata": {
    "slideshow": {
     "slide_type": "slide"
    }
   },
   "source": [
    "# A CNN architecture\n",
    "\n",
    "### We don't decide on filters, we \"learn\" them: a $q\\times q$ filter has $q^2$ parameters\n",
    "\n",
    "### Each filter is applied to the entire image to create a new \"image\"\n",
    "\n",
    "### Images are scaled (\"pooling\"), then more filters are applied, to find features at different scales\n",
    "\n",
    "### The learned features are then used in a dense feed-forward network to classify images\n",
    "\n",
    "[Example](https://towardsdatascience.com/a-comprehensive-guide-to-convolutional-neural-networks-the-eli5-way-3bd2b1164a53)\n"
   ]
  },
  {
   "cell_type": "markdown",
   "metadata": {
    "slideshow": {
     "slide_type": "slide"
    }
   },
   "source": [
    "# Some details\n",
    "\n",
    "### Number of parameters of convolutional layers is relatively small\n",
    "\n",
    "### Pooling: decreasing image size from $K\\times K$ usually to $K/2 \\times K/2$ by aggregating every $2\\times 2$ region to a single pixel\n",
    "\n",
    "### Most common pooling operator: max pooling (are there pointy ears anywhere in this region?)\n",
    "\n",
    "### By alternating convolutions and pooling we learn features at different scales\n",
    "\n",
    "### Important: all parameters (filters, dense layers weights,...) are learned *together* using SGD"
   ]
  },
  {
   "cell_type": "markdown",
   "metadata": {
    "slideshow": {
     "slide_type": "slide"
    }
   },
   "source": [
    "# [Example: South Park vs Simpsons](http://giorasimchoni.com/2017/06/11/2017-06-11-deep-south-springfield/)"
   ]
  },
  {
   "cell_type": "markdown",
   "metadata": {
    "slideshow": {
     "slide_type": "slide"
    }
   },
   "source": [
    "# Predictive modeling summary and a bit of theory"
   ]
  },
  {
   "cell_type": "markdown",
   "metadata": {
    "slideshow": {
     "slide_type": "slide"
    }
   },
   "source": [
    "# What we have learned\n",
    "\n",
    "### Want to model and predict $y$ as function of $x$: regression or classification\n",
    "\n",
    "### Using training data $Tr$ to learn model, test data $Te$ to evaluate model and emulate actual prediction\n",
    "\n",
    "### Traditional parametric models: OLS regression, logistic regression\n",
    "\n",
    "### Non-parametric models based on neighborhoods: Nearest neighbors, trees\n",
    "\n",
    "### Modern methods based on trees: Random Forest and Boosting\n",
    "\n",
    "### Neural nets and DL"
   ]
  },
  {
   "cell_type": "markdown",
   "metadata": {
    "slideshow": {
     "slide_type": "slide"
    }
   },
   "source": [
    "# Model complexity or flexibility\n",
    "\n",
    "\n",
    "### Many of the models we have learned have a *complexity* parameter\n",
    "* OLS/logistic: $p$, number of variables in $x$\n",
    "* k-NN: number of neighbors $k$\n",
    "* Trees: depth of tree $d$\n",
    "* Neural nets: number of edges in $W$\n",
    "\n",
    "### More complex models are more flexible and \"rich\"\n",
    "\n",
    "### Typical behavior we have seen: as complexity increases, training error decreases, test/prediction error has U-shape ([Illustration](https://en.wikipedia.org/wiki/Overfitting#/media/File:Overfitting_svg.svg))\n",
    "\n",
    "### Optimal complexity: flexible enough to capture relevant information, not too flexible to cause overfitting\n",
    "\n"
   ]
  },
  {
   "cell_type": "markdown",
   "metadata": {
    "slideshow": {
     "slide_type": "slide"
    }
   },
   "source": [
    "# Intuition: Estimation and approximation error\n",
    "\n",
    "### Approximation error: how well our model can capture the \"true\" dependence of $y$ on $x$\n",
    "\n",
    "### Estimation error: how well can we estimate our model from our training data $Tr$\n",
    "\n",
    "### Simple (low-complexity) model: high approximation error, low estimation error\n",
    "\n",
    "### Complex model: low approximation error, high estimation error \n",
    "\n",
    "[Graphical illustration](https://archive.cnx.org/contents/b9962572-7ed1-486a-9028-f4d14dc042d8@2/introduction-to-complexity-regularization)"
   ]
  },
  {
   "cell_type": "markdown",
   "metadata": {
    "slideshow": {
     "slide_type": "slide"
    }
   },
   "source": [
    "# Squared error decomposition\n",
    "\n",
    "### For regression, take the standard model: $y = f(x) + \\epsilon\\;,\\;\\epsilon \\sim (0,\\sigma^2)$\n",
    "\n",
    "### Modeling approach (e.g. OLS),  given training data $Tr$, gives model $\\hat{f}(x)$\n",
    "\n",
    "### Assume want to predict at $x_0$, and understand our expected (squared) prediction error: \n",
    "\n",
    "$ \\mathbb E(y_0  - \\hat{f}(x_0))^2 = \\mathbb E \\left( \\underbrace{\\left(y_0  - f(x_0)\\right)}_{A} + \\underbrace{\\left(f(x_0) - \\mathbb E (\\hat{f}(x_0))\\right)}_{B} + \\underbrace{\\left(\\mathbb E (\\hat{f}(x_0)) - \\hat{f}(x_0)\\right)}_{C}\\right)^2 $\n",
    "\n",
    "### Note we treat both the traininfg data $Tr$ (and hence $\\hat{f}$) and the response $y_0$ as random variables in our expectations"
   ]
  },
  {
   "cell_type": "markdown",
   "metadata": {
    "slideshow": {
     "slide_type": "slide"
    }
   },
   "source": [
    "# The bias-variance decomposition\n",
    "\n",
    "$ \\mathbb E(y_0  - \\hat{f}(x_0))^2 =$<br>\n",
    "$\\;\\;\\;\\;\\;\\;\\mathbb E \\left( \\underbrace{\\left(y_0  - f(x_0)\\right)}_{A} + \\underbrace{\\left(f(x_0) - \\mathbb E (\\hat{f}(x_0))\\right)}_{B} + \\underbrace{\\left(\\mathbb E (\\hat{f}(x_0)) - \\hat{f}(x_0)\\right)}_{C}\\right)^2 =$<br>\n",
    "$\\;\\;\\;\\;\\;\\;\\mathbb E A^2 + \\mathbb E B^2 + \\mathbb E C^2 + 2 \\mathbb E (AB) + 2 \\mathbb E (AC) + 2\\mathbb E (BC)$<br><br>\n",
    "\n",
    "$\\mathbb E(A^2) = \\sigma^2$ the *Irreducible error* a perfect model which knows the true $f$ would make\n",
    "\n",
    "$\\mathbb E(B^2) =  \\mathbb E  \\left(f(x_0) - \\mathbb E (\\hat{f}(x_0))\\right)^2 $ is the *squared  bias* --- a measure of approximation error\n",
    "\n",
    "$\\mathbb E(C^2) =  \\mathbb E  \\left(\\mathbb E (\\hat{f}(x_0)) - \\hat{f}(x_0) \\right)^2 $ is the *variance* of the prediction --- a measure of approximation error\n",
    "\n",
    "$\\mathbb E (AB) =  \\mathbb E (AC)  = \\mathbb E (BC) = 0$ due to independence relations"
   ]
  },
  {
   "cell_type": "markdown",
   "metadata": {
    "slideshow": {
     "slide_type": "slide"
    }
   },
   "source": [
    "# Using the bias-variance decomposition\n",
    "\n",
    "### Our general intuition: as complexity increases, approximation error decreases and estimation error increases \n",
    "\n",
    "### For many models we can calculate and show these effects on the bias and variance of the model \n",
    "\n",
    "### For example, for OLS regression, we can prove: \n",
    "1. That the squared bias decreases when we add more variables into the model\n",
    "2. That the variance of prediction increases when we add more variables (and calculate it, under some assumptions)\n",
    "\n",
    "### Similarly for k-NN regression the squared bias decreases and the variance increases as we decrease $k$ (fewer neighbors, more flexibility/complexity)\n",
    "\n"
   ]
  },
  {
   "cell_type": "markdown",
   "metadata": {
    "slideshow": {
     "slide_type": "slide"
    }
   },
   "source": [
    "# Simulation example: bias, variance and prediction error\n",
    "\n",
    "### Let's generate data according to the following model: $x \\in \\mathbb R^{20}$ has multivariate normal distribution, $y = \\sum_{j=1}^p \\sqrt{(21-j)/2} \\times x_j + \\epsilon\\;,\\;\\epsilon \\sim N(0,10)$ \n",
    "\n",
    "### So the true model is in fact linear with  $\\beta = (\\sqrt{10},\\sqrt{9.5},...,\\sqrt{0.5})^t$\n",
    "\n",
    "### We have $n=50$ training observations, and want to predict at $x_0 = (1,1,...,1)^t\\; \\Rightarrow\\; y_0 = 43.6 + \\epsilon$\n",
    "\n",
    "### By generating many training sets and $\\hat{f}$'s we can evaluate bias, variance and prediction error\n",
    "\n",
    "### Complexity parameter: number of variables included in the model (only the first coordinate, first two,...)"
   ]
  },
  {
   "cell_type": "code",
   "execution_count": 46,
   "metadata": {},
   "outputs": [],
   "source": [
    "import pandas as pd\n",
    "import numpy as np\n",
    "import matplotlib.pyplot as plt\n",
    "import math"
   ]
  },
  {
   "cell_type": "code",
   "execution_count": 71,
   "metadata": {
    "slideshow": {
     "slide_type": "slide"
    }
   },
   "outputs": [],
   "source": [
    "ntr=50\n",
    "p=20\n",
    "err_var=1000\n",
    "\n",
    "yhat_0 = np.zeros( (20, 1000) )\n",
    "err = np.zeros( (20, 1000) )\n",
    "beta = np.sqrt(np.array(range(20,0,-1))/2)\n",
    "for iteration in range(1000):\n",
    "    X = np.random.normal(loc=0.0, scale=1.0, size=(ntr,p))\n",
    "    Y = X@beta + np.random.normal(loc=0.0, scale=np.sqrt(err_var), size=ntr)\n",
    "    f0 = np.sum(beta) \n",
    "    for pnow in range(1,p+1):\n",
    "        betahat = np.linalg.inv(X[:,:pnow].transpose()@ X[:,:pnow])@X[:,:pnow].transpose()@Y\n",
    "        yhat_0[pnow-1,iteration] = np.sum(betahat)\n",
    "        err[pnow-1,iteration] = f0-np.sum(betahat)\n",
    "        \n",
    "pred_err = np.mean(err**2,axis=1)+err_var\n",
    "pred_var = np.var(yhat_0,axis=1)\n",
    "pred_bias2 = (np.mean(yhat_0,axis=1)-np.sum(beta))**2"
   ]
  },
  {
   "cell_type": "code",
   "execution_count": 72,
   "metadata": {
    "slideshow": {
     "slide_type": "slide"
    }
   },
   "outputs": [
    {
     "data": {
      "image/png": "[encoded data removed]",
      "text/plain": [
       "<Figure size 432x288 with 1 Axes>"
      ]
     },
     "metadata": {
      "needs_background": "light"
     },
     "output_type": "display_data"
    }
   ],
   "source": [
    "plt.figure()\n",
    "lw = 2\n",
    "plt.plot(range(1,p+1), pred_err, color='darkorange', lw=lw, label='prediction error' )\n",
    "plt.plot([1,p+1], [err_var,err_var], color='black', lw=1, label='A:irreducible error')\n",
    "plt.plot(range(1,p+1), pred_bias2, color='green', lw=lw, label='B:prediction bias squared')\n",
    "plt.plot(range(1,p+1), pred_var, color='navy', lw=lw, label='C:prediction variance')\n",
    "plt.xlabel('dimension')\n",
    "plt.ylabel('squared error')\n",
    "plt.title('Error decomposition simulation')\n",
    "plt.legend(loc=\"upper right\")\n",
    "plt.show() "
   ]
  },
  {
   "cell_type": "markdown",
   "metadata": {
    "slideshow": {
     "slide_type": "slide"
    }
   },
   "source": [
    "# Cross validation: beyond the test set\n",
    "\n",
    "### So far we simply divided our data to 80% training and 20% test\n",
    "\n",
    "### We mentioned that if we also have to choose a model parameter (like number of variables or $k$ in $k$-NN), we should have training-validation-test (usually 60-20-20), where we use validation to select model, and test for final evaluation\n",
    "\n",
    "### But there are more efficient ways to use the data\n",
    "\n",
    "### Example: 10-fold cross validation\n",
    "1. Divide the data into 10 equal size parts (folds)\n",
    "2. Repeat 10 times: \n",
    "    a. Fit the model on 90% of the data \n",
    "    b. Apply the model to the holdout fold\n",
    "3. Evaluate the modeling approach on 100% of the data by combining the holdout folds\n"
   ]
  },
  {
   "cell_type": "markdown",
   "metadata": {
    "slideshow": {
     "slide_type": "slide"
    }
   },
   "source": [
    "# Cross validation: advantages and issues\n",
    "\n",
    "### Can go beyond 10-fold, to n-fold: each time fit the model on $n-1$ observations, and hold-out $1$\n",
    "\n",
    "### Advantages: \n",
    "1. Training set is bigger ($0.9n$ or $n-1$ instead of $0.8n$) --- better models and more realistic\n",
    "2. Test set is bigger (essentially of size $n$) --- more stable\n",
    "\n",
    "### Disadvantages: \n",
    "1. Have to build 10 (or $n$) models --- much more computing\n",
    "2. What exactly are we evaluating --- we don't have a single model\n",
    "\n",
    "### Lots of interesting perspectives and results\n"
   ]
  },
  {
   "cell_type": "markdown",
   "metadata": {
    "slideshow": {
     "slide_type": "slide"
    }
   },
   "source": [
    "# Regularization: controlling the bias-variance tradeoff\n",
    "\n",
    "### As we saw, in OLS, the more variables in the model, the bigger the prediction variance\n",
    "\n",
    "### This is because we have to estimate many parameters, high model complexity\n",
    "\n",
    "### Regularization controls model complexity not by reducing the number of parameters, but in other ways\n",
    "\n",
    "### Most common: restrict the norm of $\\hat{\\beta}$, instead of allowing it to take any value in $\\mathbb R^p$\n",
    "\n",
    "### Example: ridge regression, $\\hat{\\beta}$ is the solution of: \n",
    "\n",
    "$$ \\min_{\\|\\beta\\|\\leq c} RSS (\\beta)$$\n"
   ]
  },
  {
   "cell_type": "code",
   "execution_count": 75,
   "metadata": {
    "slideshow": {
     "slide_type": "slide"
    }
   },
   "outputs": [],
   "source": [
    "ntr=50\n",
    "p=20\n",
    "err_var=1000\n",
    "\n",
    "yhat_0 = np.zeros( (30, 1000) )\n",
    "err = np.zeros( (30, 1000) )\n",
    "beta = np.sqrt(np.array(range(20,0,-1))/2)\n",
    "for iteration in range(1000):\n",
    "    X = np.random.normal(loc=0.0, scale=1.0, size=(ntr,p))\n",
    "    Y = X@beta + np.random.normal(loc=0.0, scale=np.sqrt(err_var), size=ntr)\n",
    "    f0 = np.sum(beta) \n",
    "    for lamb in range(0,30):\n",
    "        betahat = np.linalg.inv(X.transpose()@ X+lamb*np.identity(p))@X.transpose()@Y\n",
    "        yhat_0[lamb,iteration] = np.sum(betahat)\n",
    "        err[lamb,iteration] = f0-np.sum(betahat)\n",
    "        \n",
    "pred_err = np.mean(err**2,axis=1)+err_var\n",
    "pred_var = np.var(yhat_0,axis=1)\n",
    "pred_bias2 = (np.mean(yhat_0,axis=1)-np.sum(beta))**2"
   ]
  },
  {
   "cell_type": "code",
   "execution_count": 77,
   "metadata": {
    "slideshow": {
     "slide_type": "slide"
    }
   },
   "outputs": [
    {
     "data": {
      "image/png": "[encoded data removed]",
      "text/plain": [
       "<Figure size 432x288 with 1 Axes>"
      ]
     },
     "metadata": {
      "needs_background": "light"
     },
     "output_type": "display_data"
    }
   ],
   "source": [
    "plt.figure()\n",
    "lw = 2\n",
    "plt.plot(range(0,30), pred_err, color='darkorange', lw=lw, label='prediction error' )\n",
    "plt.plot([1,29], [err_var,err_var], color='black', lw=1, label='A:irreducible error')\n",
    "plt.plot(range(0,30), pred_bias2, color='green', lw=lw, label='B:prediction bias squared')\n",
    "plt.plot(range(0,30), pred_var, color='navy', lw=lw, label='C:prediction variance')\n",
    "plt.ylim([0,2500])\n",
    "plt.xlabel('regularization level')\n",
    "plt.ylabel('squared error')\n",
    "plt.title('Error decomposition simulation')\n",
    "plt.legend(loc=\"upper right\")\n",
    "plt.show() "
   ]
  },
  {
   "cell_type": "code",
   "execution_count": null,
   "metadata": {},
   "outputs": [],
   "source": []
  }
 ],
 "metadata": {
  "celltoolbar": "Slideshow",
  "kernelspec": {
   "display_name": "Python 3",
   "language": "python",
   "name": "python3"
  },
  "language_info": {
   "codemirror_mode": {
    "name": "ipython",
    "version": 3
   },
   "file_extension": ".py",
   "mimetype": "text/x-python",
   "name": "python",
   "nbconvert_exporter": "python",
   "pygments_lexer": "ipython3",
   "version": "3.7.1"
  }
 },
 "nbformat": 4,
 "nbformat_minor": 2
}
